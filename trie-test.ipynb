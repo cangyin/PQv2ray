{
 "metadata": {
  "language_info": {
   "codemirror_mode": {
    "name": "ipython",
    "version": 3
   },
   "file_extension": ".py",
   "mimetype": "text/x-python",
   "name": "python",
   "nbconvert_exporter": "python",
   "pygments_lexer": "ipython3",
   "version": "3.7.5"
  },
  "orig_nbformat": 2,
  "kernelspec": {
   "name": "python37564bit74ca96a59e62469a8b41044bca5d40ed",
   "display_name": "Python 3.7.5 64-bit"
  },
  "metadata": {
   "interpreter": {
    "hash": "02dd80c4b7287f3e16ced86c43aa4adbd2bf8523c6ec7913418dfb2bc69fcf95"
   }
  }
 },
 "nbformat": 4,
 "nbformat_minor": 2,
 "cells": [
  {
   "cell_type": "code",
   "execution_count": 1,
   "metadata": {},
   "outputs": [],
   "source": [
    "from components import *"
   ]
  },
  {
   "cell_type": "code",
   "execution_count": 2,
   "metadata": {},
   "outputs": [],
   "source": [
    "l = [\n",
    "    'iKuuu VPN ◎ 香港1-V2Ray',\n",
    "    # 'iKuuu VPN ◎ 香港2-V2Ray',\n",
    "    # 'iKuuu VPN ◎ 香港3-V2Ray',\n",
    "    # 'TNTv2 ◎ [Lv2·1.0x] 新加坡01|IP均衡优化|混合负载',\n",
    "    # 'TNTv2 ◎ [Lv2·1.0x] 新加坡02|IP均衡优化|混合负载',\n",
    "    # 'TNTv2 ◎ [Lv2·1.0x] 新加坡03|IP均衡优化|混合负载',\n",
    "    # '[Lv2·1.0x] 香港HGC01|DIA|IP均衡优化|混合负载|香港原生',\n",
    "    # '[Lv2·1.0x] 香港HGC02|DIA|IP均衡优化|混合负载|香港原生',\n",
    "    # '[Lv2·1.0x] 香港HGC03|DIA|IP均衡优化|混合负载|香港原生',\n",
    "]"
   ]
  },
  {
   "cell_type": "code",
   "execution_count": 3,
   "metadata": {},
   "outputs": [],
   "source": [
    "t = MyTrie(*l)"
   ]
  },
  {
   "cell_type": "code",
   "execution_count": 4,
   "metadata": {},
   "outputs": [],
   "source": [
    "# t.insert('jkkrf')\n",
    "dump_json(t.root, 'trie.json')"
   ]
  },
  {
   "cell_type": "code",
   "execution_count": 5,
   "metadata": {},
   "outputs": [
    {
     "output_type": "execute_result",
     "data": {
      "text/plain": [
       "['iKuuu VPN ◎ 香港1-V2Ray']"
      ]
     },
     "metadata": {},
     "execution_count": 5
    }
   ],
   "source": [
    "t.common_prefixes()"
   ]
  },
  {
   "cell_type": "code",
   "execution_count": null,
   "metadata": {},
   "outputs": [],
   "source": []
  }
 ]
}